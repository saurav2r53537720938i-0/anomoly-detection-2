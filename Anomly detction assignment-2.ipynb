{
 "cells": [
  {
   "cell_type": "markdown",
   "id": "bb8d1a79-7aaf-460c-8408-edc609d5b2de",
   "metadata": {},
   "source": [
    "Feature slection plays a crucial role in anomly detection by helping to identify the most relvant and informative feature for distinguished between normal and abnormal behvaiour by slecting the right features the detection algorthim can focus on the most discrimniative aspect of the data ,improving accuarcy andd efficency it also helps reduce noise and dimensionality making the anmoly detection process more effective and interpretable"
   ]
  },
  {
   "cell_type": "markdown",
   "id": "bdbc99c2-fd43-497b-b100-eba2cd7f249a",
   "metadata": {},
   "source": [
    "Common evluation metrics for anomly detection algorthims include:\n",
    "1. Accuracy\n",
    "2. Precsion\n",
    "3. Recall(sensvity)\n",
    "4. F1 score\n",
    "5. Specficity\n",
    "6. Area under reciver operating charterstics\n",
    "These metrics provide diffrent perespective on the perfomance of anomly detection algorthims and helps assesstheir efficvbess in identifing anomalies while minimizing false postivness and false negatice"
   ]
  },
  {
   "cell_type": "markdown",
   "id": "74d753f6-484c-4b9b-ae7c-906cf6b15d91",
   "metadata": {},
   "source": [
    "DBSCAN clustering of application with noise is a popular clustering algorthim used for identifing cluster algorthim used dataset based on their density:\n",
    "1. Density-based clustering\n",
    "2. core points\n",
    "3. Core,border and noise points\n",
    "4. Clustering process\n",
    "5. Expansion\n",
    "6. Result"
   ]
  },
  {
   "cell_type": "markdown",
   "id": "457c815d-b4fd-41ae-a564-8c556cd37575",
   "metadata": {},
   "source": [
    "The epslion paramter in DBSCAN affects the performance of anomly detection in the following ways:\n",
    "1. Density threshold\n",
    "2. Effect on cliuster size\n",
    "3. Senstvity to outliers\n",
    "4. Finding Anomalies\n",
    "5. Trade off\n",
    "In summary slecting an appropriate epslion value is crucial for effective anomly detection using DBSCAN it requires balancing the trade off between senstvity to local density variations noise tolerance and the definations of anomalies Expemintation"
   ]
  },
  {
   "cell_type": "markdown",
   "id": "374b5526-3432-4e4c-85fc-8b038f6ecc2d",
   "metadata": {},
   "source": [
    "it seems there might be a misunderstanding regarding the algorthim name deepscan is not standard clustering algorthim name deepscan is not a standard clustering algorthim like DBSCAN however assumingg you meant DBSCAN:\n",
    "1. Core points\n",
    "2. Border points\n",
    "3. noise points\n",
    "regarding their relationship to anomly detecting:\n",
    "1. Core points\n",
    "2. Border points\n",
    "3. Noise points"
   ]
  },
  {
   "cell_type": "markdown",
   "id": "a8508c58-9013-4894-86f5-d433cd200c82",
   "metadata": {},
   "source": [
    "It seems there might be some confussion again regarding the algorthims name as of my last update in january 2022 there is not widely reconised clustering algorthim called Dip scans howeverr if you meant DBSCAn or another clustering algorthim i can provide information about how clustering algorthims in genral can be used for anmoly detection and they key parmetrs involved in the process\n",
    "1. Density based anmoly detection\n",
    "2. paramter slection\n",
    "3. Anmoly identfication\n",
    "4. Scalablity and efficency\n",
    "5. Evluation\n",
    "in summary clustering algorthims can be adpated for anmolyy detection by levraging their ablity to identify dense region in the data and treating as anmolies key parmters such as epslion and minpits a crucial"
   ]
  },
  {
   "cell_type": "markdown",
   "id": "1e6fc421-089e-4d21-80ad-c76ccfcaf5de",
   "metadata": {},
   "source": [
    "As of my last update in january 2022 there is not specfic package called make circle in scikit learn however popular machine learning libary python that includes various method modules and function for takes such as classfication regtessionj clusteringg dimensionally reduction and preprocessing"
   ]
  }
 ],
 "metadata": {
  "kernelspec": {
   "display_name": "Python 3 (ipykernel)",
   "language": "python",
   "name": "python3"
  },
  "language_info": {
   "codemirror_mode": {
    "name": "ipython",
    "version": 3
   },
   "file_extension": ".py",
   "mimetype": "text/x-python",
   "name": "python",
   "nbconvert_exporter": "python",
   "pygments_lexer": "ipython3",
   "version": "3.10.8"
  }
 },
 "nbformat": 4,
 "nbformat_minor": 5
}
